{
  "cells": [
    {
      "cell_type": "markdown",
      "metadata": {
        "id": "view-in-github",
        "colab_type": "text"
      },
      "source": [
        "<a href=\"https://colab.research.google.com/github/trushpatel97/SQLtoSPANNER/blob/main/SQL_to_Spanner.ipynb\" target=\"_parent\"><img src=\"https://colab.research.google.com/assets/colab-badge.svg\" alt=\"Open In Colab\"/></a>"
      ]
    },
    {
      "cell_type": "code",
      "source": [
        "import json"
      ],
      "metadata": {
        "id": "nb40lHS-srkx"
      },
      "execution_count": 18,
      "outputs": []
    },
    {
      "cell_type": "code",
      "source": [
        "import re"
      ],
      "metadata": {
        "id": "crBzfEIeV-_l"
      },
      "execution_count": 19,
      "outputs": []
    },
    {
      "cell_type": "code",
      "source": [
        "dictionary = {\"char\" : \"STRING\",\n",
        "\"varchar\" : \"STRING\",\n",
        "\"varchar2\" : \"STRING\",\n",
        "\"nchar\" : \"STRING\",\n",
        "\"nvarchar\" : \"STRING\",\n",
        "\"blob\" : \"STRING\",\n",
        "\"long raw\" : \"STRING\",\n",
        "\"bfile\" : \"STRING\",\n",
        "\"clob\" : \"STRING\",\n",
        "\"nclob\" : \"STRING\",\n",
        "\"long\" : \"STRING\",\n",
        "\"number\" : \"STRING\",\n",
        "\"numeric\" : \"INT64\",\n",
        "\"decimal\" : \"STRING\",\n",
        "\"int\" : \"INT64\",\n",
        "\"smallint\" : \"INT64\",\n",
        "\"binary_float\" : \"FLOAT64\",\n",
        "\"binary_double\" : \"FLOAT64\",\n",
        "\"date\" : \"DATE\",\n",
        "\"datetime\" : \"TIMESTAMP\",\n",
        "\"xml\" : \"STRING\",\n",
        "\"xml\" : \"STRING\",\n",
        "\"dburi\" : \"STRING\",\n",
        "\"xdburi\" : \"STRING\",\n",
        "\"httpuri\" : \"STRING\",\n",
        "\"rowid\" : \"PRIMARY KEY\",\n",
        "\"table\":\"TABLE\"}"
      ],
      "metadata": {
        "id": "xMI6eFaluBfm"
      },
      "execution_count": 20,
      "outputs": []
    },
    {
      "cell_type": "code",
      "source": [
        "with open('Oracle_SQL.txt') as f, open('output.txt', 'w')  as out:\n",
        "    data = f.read()\n",
        "    f = open('Oracle_SQL.txt', encoding=\"utf8\")\n",
        "    sentences = f.read().split(\"\\n\")"
      ],
      "metadata": {
        "id": "TR7Qcg1RrpUx"
      },
      "execution_count": 21,
      "outputs": []
    },
    {
      "cell_type": "code",
      "source": [
        "def getFieldNames(sentences):\n",
        "  mylist = []\n",
        "  for i in sentences:\n",
        "    words = re.sub(r'[^a-zA-Z ;]','',i)\n",
        "    words = words.replace(r'/\\\\(.+?\\\\)/g','').split(\" \")\n",
        "    words = list(filter(None, words))\n",
        "    for previous, current in zip(words,words[1:]):\n",
        "      if current.lower() in dictionary:\n",
        "        mylist.append(previous)\n",
        "  mylist.pop(0)\n",
        "  return mylist\n",
        "\n"
      ],
      "metadata": {
        "id": "LWNRzA2PvJGH"
      },
      "execution_count": 35,
      "outputs": []
    },
    {
      "cell_type": "code",
      "source": [
        "def splitFields(mylist):\n",
        "  size = len(mylist)\n",
        "  idx_list = [idx + 1 for idx, val in\n",
        "              enumerate(mylist) if val == \"CREATE\"]\n",
        "  res = [mylist[i: j] for i, j in\n",
        "          zip([0] + idx_list, idx_list + \n",
        "          ([size] if idx_list[-1] != size else []))]\n",
        "  return res\n"
      ],
      "metadata": {
        "id": "_TEO6ozXWW8h"
      },
      "execution_count": 30,
      "outputs": []
    },
    {
      "cell_type": "code",
      "source": [
        "getFieldNames()"
      ],
      "metadata": {
        "id": "DiKADg3RfQOV"
      },
      "execution_count": null,
      "outputs": []
    }
  ],
  "metadata": {
    "colab": {
      "collapsed_sections": [],
      "name": "Welcome To Colaboratory",
      "provenance": [],
      "include_colab_link": true
    },
    "kernelspec": {
      "display_name": "Python 3",
      "name": "python3"
    }
  },
  "nbformat": 4,
  "nbformat_minor": 0
}